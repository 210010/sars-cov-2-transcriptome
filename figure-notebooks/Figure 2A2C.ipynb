{
 "cells": [
  {
   "cell_type": "markdown",
   "metadata": {},
   "source": [
    "# Figure 2A, 2C, and S4A: Sankey diagram for read count stats"
   ]
  },
  {
   "cell_type": "code",
   "execution_count": 1,
   "metadata": {},
   "outputs": [
    {
     "name": "stdout",
     "output_type": "stream",
     "text": [
      "/qbio/nest/hyeshik/working/20200222-Vero-figures\n"
     ]
    }
   ],
   "source": [
    "%cd ~/p/npworks/20200222-Vero-SCV2/figure-outputs/"
   ]
  },
  {
   "cell_type": "code",
   "execution_count": 2,
   "metadata": {},
   "outputs": [],
   "source": [
    "from plotly.offline import plot\n",
    "from IPython.display import IFrame"
   ]
  },
  {
   "cell_type": "code",
   "execution_count": 3,
   "metadata": {},
   "outputs": [],
   "source": [
    "import shutil"
   ]
  },
  {
   "cell_type": "code",
   "execution_count": 4,
   "metadata": {},
   "outputs": [
    {
     "name": "stdout",
     "output_type": "stream",
     "text": [
      "temp-plot.html\n"
     ]
    },
    {
     "data": {
      "text/html": [
       "\n",
       "        <iframe\n",
       "            width=\"700\"\n",
       "            height=\"600\"\n",
       "            src=\"./temp-plot.html\"\n",
       "            frameborder=\"0\"\n",
       "            allowfullscreen\n",
       "        ></iframe>\n",
       "        "
      ],
      "text/plain": [
       "<IPython.lib.display.IFrame at 0x7f5e7168d1d0>"
      ]
     },
     "execution_count": 4,
     "metadata": {},
     "output_type": "execute_result"
    }
   ],
   "source": [
    "data = dict(\n",
    "    type='sankey',\n",
    "    node = dict(\n",
    "      pad = 15,\n",
    "      thickness = 20,\n",
    "      line = dict(\n",
    "        color = \"black\",\n",
    "        width = 0.5\n",
    "      ),\n",
    "      label = [\"Total\", \"Virus\", \"Host\" ,\"Control\", \"Unmapped\", \"+Leader\", \"-Leader\", \"N-Genomic\", \"Mito\"],\n",
    "      color = [\"yellow\", \"yellow\", \"yellow\", \"yellow\", \"yellow\", \"maroon\", \"maroon\", \"blue\", \"blue\"],\n",
    "      #x = [0, .5, .5, .5, 1, 1, 1, 1, 1],\n",
    "      #y = [0, 0, .5, 1, 0, 0.2, 0.4, 0.6, 0.8, 1],\n",
    "       \n",
    "    ),\n",
    "    link = dict(\n",
    "      source = [0, 0, 0, 0, 1, 1, 2, 2],\n",
    "      target = [1, 2, 3, 4, 5, 6, 7, 8],\n",
    "      value = [65.39, 22.9, 7.01, 4.71, 31.95, 33.45, 16.23, 6.66]\n",
    "  ))\n",
    "\n",
    "layout =  dict(\n",
    "    title = \"Figure 2A\",\n",
    "    font = dict(\n",
    "      size = 10\n",
    "    )\n",
    ")\n",
    "\n",
    "fig = dict(data=[data], layout=layout)\n",
    "ret = plot(fig, validate=False)\n",
    "print(ret)\n",
    "\n",
    "shutil.copy(ret, 'sankey-2A.html')\n",
    "IFrame(src='./temp-plot.html', width=700, height=600)"
   ]
  },
  {
   "cell_type": "code",
   "execution_count": 5,
   "metadata": {},
   "outputs": [
    {
     "name": "stdout",
     "output_type": "stream",
     "text": [
      "temp-plot.html\n"
     ]
    },
    {
     "data": {
      "text/html": [
       "\n",
       "        <iframe\n",
       "            width=\"700\"\n",
       "            height=\"600\"\n",
       "            src=\"./temp-plot.html\"\n",
       "            frameborder=\"0\"\n",
       "            allowfullscreen\n",
       "        ></iframe>\n",
       "        "
      ],
      "text/plain": [
       "<IPython.lib.display.IFrame at 0x7f5e7168d2d0>"
      ]
     },
     "execution_count": 5,
     "metadata": {},
     "output_type": "execute_result"
    }
   ],
   "source": [
    "data = dict(\n",
    "    type='sankey',\n",
    "    node = dict(\n",
    "      pad = 15,\n",
    "      thickness = 20,\n",
    "      line = dict(\n",
    "        color = \"black\",\n",
    "        width = 0.5\n",
    "      ),\n",
    "      label = [\"T\", \"V\", \"C\", \"U\", \"L\", \"S\"],\n",
    "      color = [\"green\", \"brown\", \"yellow\", \"skyblue\", \"blue\", \"maroon\"],\n",
    "       \n",
    "    ),\n",
    "    link = dict(\n",
    "      source = [0, 0, 0, 1, 1],\n",
    "      target = [1, 2, 3, 4, 5],\n",
    "      value = [92.1, 2.4, 5.5, 32.86899, 59.197]\n",
    "  ))\n",
    "\n",
    "layout =  dict(\n",
    "    title = \"Figure 2C\",\n",
    "    font = dict(\n",
    "      size = 10\n",
    "    )\n",
    ")\n",
    "\n",
    "fig = dict(data=[data], layout=layout)\n",
    "ret = plot(fig, validate=False)\n",
    "print(ret)\n",
    "\n",
    "shutil.copy(ret, 'sankey-2C.html')\n",
    "IFrame(src='./temp-plot.html', width=700, height=600)"
   ]
  },
  {
   "cell_type": "code",
   "execution_count": 6,
   "metadata": {},
   "outputs": [
    {
     "name": "stdout",
     "output_type": "stream",
     "text": [
      "temp-plot.html\n"
     ]
    },
    {
     "data": {
      "text/html": [
       "\n",
       "        <iframe\n",
       "            width=\"700\"\n",
       "            height=\"600\"\n",
       "            src=\"./temp-plot.html\"\n",
       "            frameborder=\"0\"\n",
       "            allowfullscreen\n",
       "        ></iframe>\n",
       "        "
      ],
      "text/plain": [
       "<IPython.lib.display.IFrame at 0x7f5e68acb290>"
      ]
     },
     "execution_count": 6,
     "metadata": {},
     "output_type": "execute_result"
    }
   ],
   "source": [
    "data = dict(\n",
    "    type='sankey',\n",
    "    node = dict(\n",
    "      pad = 15,\n",
    "      thickness = 20,\n",
    "      line = dict(\n",
    "        color = \"black\",\n",
    "        width = 0.5\n",
    "      ),\n",
    "      label = [\"T\", \"V\", \"H\", \"U\", \"J\", \"N\", \"G\", \"M\"],\n",
    "      color = [\"green\", \"brown\", \"yellow\", \"skyblue\", \"blue\", \"maroon\", \"cyan\", \"magenta\"],\n",
    "       \n",
    "    ),\n",
    "    link = dict(\n",
    "      source = [0, 0, 0, 1, 1, 2, 2],\n",
    "      target = [1, 2, 3, 4, 5, 6, 7],\n",
    "      value = [68.8, 28.0, 3.1, 64.947, 3.853, 18.2, 9.8]\n",
    "  ))\n",
    "\n",
    "layout =  dict(\n",
    "    title = \"Basic Sankey Diagram\",\n",
    "    font = dict(\n",
    "      size = 10\n",
    "    )\n",
    ")\n",
    "\n",
    "fig = dict(data=[data], layout=layout)\n",
    "ret = plot(fig, validate=False)\n",
    "print(ret)\n",
    "\n",
    "shutil.copy(ret, 'sankey-S4A.html')\n",
    "IFrame(src='./temp-plot.html', width=700, height=600)"
   ]
  },
  {
   "cell_type": "code",
   "execution_count": null,
   "metadata": {},
   "outputs": [],
   "source": []
  }
 ],
 "metadata": {
  "kernelspec": {
   "display_name": "Python 3",
   "language": "python",
   "name": "python3"
  },
  "language_info": {
   "codemirror_mode": {
    "name": "ipython",
    "version": 3
   },
   "file_extension": ".py",
   "mimetype": "text/x-python",
   "name": "python",
   "nbconvert_exporter": "python",
   "pygments_lexer": "ipython3",
   "version": "3.7.6"
  }
 },
 "nbformat": 4,
 "nbformat_minor": 4
}
