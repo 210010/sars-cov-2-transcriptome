{
 "cells": [
  {
   "cell_type": "code",
   "execution_count": 1,
   "metadata": {},
   "outputs": [
    {
     "name": "stdout",
     "output_type": "stream",
     "text": [
      "/blaze/hyeshik/p/npworks/20200222-Vero-SCV2\n"
     ]
    }
   ],
   "source": [
    "%cd ~/p/npworks/20200222-Vero-SCV2/"
   ]
  },
  {
   "cell_type": "code",
   "execution_count": 2,
   "metadata": {},
   "outputs": [],
   "source": [
    "mods20pct = pd.read_pickle('tmp/per-read-modified-bases-summary.pickle')\n",
    "mods20cov = pd.read_pickle('tmp/per-read-modified-bases-coverage.pickle')"
   ]
  },
  {
   "cell_type": "code",
   "execution_count": 3,
   "metadata": {},
   "outputs": [],
   "source": [
    "annotations = pd.read_csv('refs/SARS-CoV-2-annotations.gff', sep='\\t',\n",
    "                         names=['chrom', 'type', 'name', 'start', 'end', '_x', '_y', '_z'])\n",
    "annotations['start'] -= 1\n",
    "cdsanno = annotations.iloc[:10]\n",
    "cdsanno = pd.concat([\n",
    "    cdsanno,\n",
    "    pd.DataFrame([pd.Series(['chrSCV', 'CDS', 'ORF1ab', 265, 21555, 0.0, '.', '.'],\n",
    "              index=cdsanno.columns)])\n",
    "]).sort_values(by='start').reset_index(drop=True).iloc[:10, :5]"
   ]
  },
  {
   "cell_type": "code",
   "execution_count": 4,
   "metadata": {},
   "outputs": [],
   "source": [
    "ORFs = cdsanno['name'].tolist()"
   ]
  },
  {
   "cell_type": "code",
   "execution_count": 5,
   "metadata": {},
   "outputs": [
    {
     "data": {
      "text/plain": [
       "['ORF1ab', 'S', 'ORF3a', 'E', 'M', 'ORF6', 'ORF7a', 'ORF7b', 'ORF8', 'N']"
      ]
     },
     "execution_count": 5,
     "metadata": {},
     "output_type": "execute_result"
    }
   ],
   "source": [
    "ORFs"
   ]
  },
  {
   "cell_type": "code",
   "execution_count": 6,
   "metadata": {},
   "outputs": [],
   "source": [
    "from Bio import SeqIO\n",
    "covseq = str(next(SeqIO.parse('refs/SARS-CoV-2.fa', 'fasta')).seq).replace('T', 'U')"
   ]
  },
  {
   "cell_type": "code",
   "execution_count": 7,
   "metadata": {},
   "outputs": [],
   "source": [
    "seqcontexts = mods20pct.index.to_series().apply(lambda x: covseq[x-10:x].lower() + covseq[x:x+1] + covseq[x+1:x+11].lower())\n",
    "with open('/blaze/hyeshik/nest/modseqcontexts.fa', 'w') as wrtfasta:\n",
    "    for pos, seq in seqcontexts.iteritems():\n",
    "        print('>{}\\n{}'.format(pos, seq), file=wrtfasta)"
   ]
  },
  {
   "cell_type": "code",
   "execution_count": 8,
   "metadata": {},
   "outputs": [],
   "source": [
    "import re\n",
    "purine_pat = re.compile('[AGag]{4,}')"
   ]
  },
  {
   "cell_type": "code",
   "execution_count": 9,
   "metadata": {},
   "outputs": [],
   "source": [
    "with_purinestretch = seqcontexts.apply(lambda s:\n",
    "    (len(purine_pat.findall(s)) > 0) and any(\n",
    "        any(map(str.isupper, frag))\n",
    "        for frag in purine_pat.findall(s)))"
   ]
  },
  {
   "cell_type": "code",
   "execution_count": 10,
   "metadata": {},
   "outputs": [],
   "source": [
    "sites_PR = mods20pct[with_purinestretch]\n",
    "sites_notPR = mods20pct[~with_purinestretch]\n",
    "\n",
    "with open('/blaze/hyeshik/nest/purinerich.fa', 'w') as wrtfasta:\n",
    "    for pos, seq in sites_PR['context'].iteritems():\n",
    "        print('>{}\\n{}'.format(pos, seq), file=wrtfasta)\n",
    "with open('/blaze/hyeshik/nest/purinerich-not.fa', 'w') as wrtfasta:\n",
    "    for pos, seq in sites_notPR['context'].iteritems():\n",
    "        print('>{}\\n{}'.format(pos, seq), file=wrtfasta)"
   ]
  },
  {
   "cell_type": "code",
   "execution_count": 11,
   "metadata": {},
   "outputs": [
    {
     "data": {
      "text/plain": [
       "pos\n",
       "15947    aucaagAauccua\n",
       "27267    acuuuuAaaguuu\n",
       "27485    acuuuuAaaagaa\n",
       "27947    caccaaGaaugua\n",
       "28590    caguccAagaugg\n",
       "28611    cuaccuAggaacu\n",
       "28652    cuaacaAagacgg\n",
       "28700    caccaaAagauca\n",
       "28804    agcagaGgcggca\n",
       "28859    caagaaAuucaac\n",
       "28897    ccugcuAgaaugg\n",
       "29015    ucacuaAgaaauc\n",
       "29040    uucuaaGaagccu\n",
       "29126    aaggaaAuuuugg\n",
       "29154    cagacaAggaacu\n",
       "29297    augacaAagaucc\n",
       "29312    auuucaAagauca\n",
       "29377    gagccuAaaaagg\n",
       "29407    gaugaaAcucaag\n",
       "29775    aaugcuAgggaga\n",
       "Name: context, dtype: object"
      ]
     },
     "execution_count": 11,
     "metadata": {},
     "output_type": "execute_result"
    }
   ],
   "source": [
    "sites_PR['context']"
   ]
  },
  {
   "cell_type": "code",
   "execution_count": 12,
   "metadata": {},
   "outputs": [
    {
     "data": {
      "text/plain": [
       "pos\n",
       "6890     guaaauUuugucu\n",
       "12787    aacacaAcaaagg\n",
       "13749    uuuaagUuuagaa\n",
       "17584    uuguugAcacugu\n",
       "21552    aacaacUaaacga\n",
       "25356    agugcuCaaagga\n",
       "25459    aggaugCuacucc\n",
       "26057    uacagaCacuggu\n",
       "26279    uacguuAauaguu\n",
       "26296    gcguacUucuuuu\n",
       "26465    ucuucuGgucuaa\n",
       "26730    cugcugUuuacag\n",
       "27105    uugcugCauacag\n",
       "27164    agcaguGacaaua\n",
       "27304    uaaaccUcauaau\n",
       "27382    agauugAuuaaac\n",
       "27400    ugaaaaUuauucu\n",
       "27884    cacgccUaaacga\n",
       "28253    gauuucAucuaaa\n",
       "28668    cauaugGguugca\n",
       "28788    cuucuaCgcagaa\n",
       "28878    cagcagUagggga\n",
       "28930    gcucuuGcuuugc\n",
       "28948    cuugacAgauuga\n",
       "28957    uugaacCagcuug\n",
       "29087    uaacacAagcuuu\n",
       "29169    uuacaaAcauugg\n",
       "29443    cagcaaAcuguga\n",
       "Name: context, dtype: object"
      ]
     },
     "execution_count": 12,
     "metadata": {},
     "output_type": "execute_result"
    }
   ],
   "source": [
    "sites_notPR['context']"
   ]
  },
  {
   "cell_type": "code",
   "execution_count": 13,
   "metadata": {},
   "outputs": [
    {
     "data": {
      "text/plain": [
       "(20, 28)"
      ]
     },
     "execution_count": 13,
     "metadata": {},
     "output_type": "execute_result"
    }
   ],
   "source": [
    "len(sites_PR), len(sites_notPR)"
   ]
  },
  {
   "cell_type": "markdown",
   "metadata": {},
   "source": [
    "Filtering out the unstable alignments"
   ]
  },
  {
   "cell_type": "code",
   "execution_count": 15,
   "metadata": {},
   "outputs": [],
   "source": [
    "IGNOREENDS = 10\n",
    "\n",
    "sites_PR = sites_PR.copy()\n",
    "sites_notPR = sites_notPR.copy()\n",
    "\n",
    "for i, basetrf in cdsanno.iterrows():\n",
    "    name = basetrf['name']\n",
    "    if basetrf['name'] in sites_PR.columns:\n",
    "        sites_PR.loc[sites_PR.index <= basetrf['start'] + IGNOREENDS, name] = 0\n",
    "        sites_notPR.loc[sites_notPR.index <= basetrf['start'] + IGNOREENDS, name] = 0"
   ]
  },
  {
   "cell_type": "code",
   "execution_count": 16,
   "metadata": {},
   "outputs": [
    {
     "data": {
      "text/plain": [
       "(20, 21)"
      ]
     },
     "execution_count": 16,
     "metadata": {},
     "output_type": "execute_result"
    }
   ],
   "source": [
    "MINIMUM_MODFRAC = 0.2\n",
    "\n",
    "sites_PR = sites_PR[sites_PR.iloc[:, 1:11].max(axis=1) >= MINIMUM_MODFRAC]\n",
    "sites_notPR = sites_notPR[sites_notPR.iloc[:, 1:11].max(axis=1) >= MINIMUM_MODFRAC]\n",
    "len(sites_PR), len(sites_notPR)"
   ]
  },
  {
   "cell_type": "code",
   "execution_count": 18,
   "metadata": {},
   "outputs": [
    {
     "data": {
      "image/png": "[encoded data removed]",
      "text/plain": [
       "<Figure size 540x170 with 1 Axes>"
      ]
     },
     "metadata": {
      "image/png": {
       "height": 155,
       "width": 524
      }
     },
     "output_type": "display_data"
    }
   ],
   "source": [
    "SHRINK_TO = 25000\n",
    "SHRINK_RATIO = 1/10\n",
    "def transform_to_xaxis(positions):\n",
    "    ret = []\n",
    "    for v in positions:\n",
    "        if v >= SHRINK_TO:\n",
    "            ret.append(v)\n",
    "        else:\n",
    "            ret.append(SHRINK_TO - (SHRINK_TO - v) * SHRINK_RATIO)\n",
    "    return ret\n",
    "\n",
    "XTICKS_MAJOR = np.hstack([np.arange(0, SHRINK_TO+1, 5000), np.arange(SHRINK_TO, 30001, 1000)])\n",
    "XTICKS_TRANSFORMED = transform_to_xaxis(XTICKS_MAJOR)\n",
    "\n",
    "fig, ax = plt.subplots(1, 1, figsize=(5.4, 1.7))\n",
    "\n",
    "ax.scatter(transform_to_xaxis(sites_PR.index),\n",
    "           [0] * len(sites_PR), c='black', marker='d', edgecolor='none')\n",
    "\n",
    "for i, (base, marker) in enumerate(zip('ACGU', ['X', 'X', 'X', 'X'])):\n",
    "    notPRsub = sites_notPR[sites_notPR['context'].apply(lambda x: base in x)]\n",
    "    ax.scatter(transform_to_xaxis(notPRsub.index),\n",
    "               [i+1] * len(notPRsub), c='black', marker=marker, edgecolor='none')\n",
    "\n",
    "ax.set_xticks(XTICKS_TRANSFORMED)\n",
    "ax.set_xticklabels(XTICKS_MAJOR)\n",
    "#ax.set_xlim(27000, 30000)\n",
    "ax.set_yticks(list(range(5)))\n",
    "ax.set_yticklabels(['AAGAAA', 'A', 'C', 'G', 'U'])\n",
    "ax.set_ylim(-.5, 4.5)\n",
    "ax.invert_yaxis()\n",
    "ax.axhline(1.5, c='gray')\n",
    "ax.axhline(0.5, c='gray')\n",
    "ax.axhline(2.5, c='gray')\n",
    "ax.axhline(3.5, c='gray')\n",
    "ax.axhline(4.5, c='gray')\n",
    "ax.axhline(-0.5, c='gray')\n",
    "\n",
    "ax.spines['top'].set_visible(False)\n",
    "ax.spines['right'].set_visible(False)\n",
    "ax.spines['left'].set_position(('outward', 5))\n",
    "ax.spines['bottom'].set_position(('outward', 5))\n",
    "ax.axvline(27977)\n",
    "\n",
    "plt.tight_layout()\n",
    "plt.savefig('figure-outputs/motifsites.pdf')"
   ]
  },
  {
   "cell_type": "markdown",
   "metadata": {},
   "source": [
    "# Motifs aligned by MEME"
   ]
  },
  {
   "cell_type": "code",
   "execution_count": 19,
   "metadata": {},
   "outputs": [],
   "source": [
    "from io import StringIO"
   ]
  },
  {
   "cell_type": "code",
   "execution_count": 20,
   "metadata": {},
   "outputs": [],
   "source": [
    "memealns = \\\n",
    "pd.read_csv(StringIO(\n",
    "\"\"\"15947\t3\tc\ta\ta\tg\ta\ta\tt\t9\t+\t7.34\n",
    "27485\t7\ta\ta\ta\ta\tg\ta\ta\t13\t+\t6.98\n",
    "27947\t4\tc\ta\ta\tg\ta\ta\tt\t10\t+\t7.34\n",
    "28590\t5\tc\tc\ta\ta\tg\ta\tt\t11\t+\t3.97\n",
    "28611\t5\tc\tt\ta\tg\tg\ta\ta\t11\t+\t7.87\n",
    "28652\t5\tc\ta\ta\ta\tg\ta\tc\t11\t+\t7.25\n",
    "28700\t5\ta\ta\ta\ta\tg\ta\tt\t11\t+\t6.58\n",
    "28804\t3\tc\ta\tg\ta\tg\tg\tc\t9\t+\t1.02\n",
    "28859\t1\tc\ta\ta\tg\ta\ta\ta\t7\t+\t7.73\n",
    "28897\t5\tc\tt\ta\tg\ta\ta\tt\t11\t+\t6.64\n",
    "29015\t4\tc\tt\ta\ta\tg\ta\ta\t10\t+\t8.36\n",
    "29040\t3\tc\tt\ta\ta\tg\ta\ta\t9\t+\t8.36\n",
    "29126\t1\ta\ta\tg\tg\ta\ta\ta\t7\t+\t2.97\n",
    "29154\t5\tc\ta\ta\tg\tg\ta\ta\t11\t+\t8.57\n",
    "29297\t5\tc\ta\ta\ta\tg\ta\tt\t11\t+\t8.67\n",
    "29312\t5\tc\ta\ta\ta\tg\ta\tt\t11\t+\t8.67\n",
    "29377\t5\tc\tt\ta\ta\ta\ta\ta\t11\t+\t7.52\n",
    "29407\t2\ta\tt\tg\ta\ta\ta\tc\t8\t+\t0.953\n",
    "29775\t5\tc\tt\ta\tg\tg\tg\ta\t11\t+\t4.32\n",
    "\"\"\"), sep='\\t', names='pos start b1 b2 b3 b4 b5 b6 b7 end strand score'.split()).set_index('pos')"
   ]
  },
  {
   "cell_type": "code",
   "execution_count": 21,
   "metadata": {},
   "outputs": [
    {
     "data": {
      "text/html": [
       "<div>\n",
       "<style scoped>\n",
       "    .dataframe tbody tr th:only-of-type {\n",
       "        vertical-align: middle;\n",
       "    }\n",
       "\n",
       "    .dataframe tbody tr th {\n",
       "        vertical-align: top;\n",
       "    }\n",
       "\n",
       "    .dataframe thead th {\n",
       "        text-align: right;\n",
       "    }\n",
       "</style>\n",
       "<table border=\"1\" class=\"dataframe\">\n",
       "  <thead>\n",
       "    <tr style=\"text-align: right;\">\n",
       "      <th></th>\n",
       "      <th>start</th>\n",
       "      <th>b1</th>\n",
       "      <th>b2</th>\n",
       "      <th>b3</th>\n",
       "      <th>b4</th>\n",
       "      <th>b5</th>\n",
       "      <th>b6</th>\n",
       "      <th>b7</th>\n",
       "      <th>end</th>\n",
       "      <th>strand</th>\n",
       "      <th>score</th>\n",
       "    </tr>\n",
       "    <tr>\n",
       "      <th>pos</th>\n",
       "      <th></th>\n",
       "      <th></th>\n",
       "      <th></th>\n",
       "      <th></th>\n",
       "      <th></th>\n",
       "      <th></th>\n",
       "      <th></th>\n",
       "      <th></th>\n",
       "      <th></th>\n",
       "      <th></th>\n",
       "      <th></th>\n",
       "    </tr>\n",
       "  </thead>\n",
       "  <tbody>\n",
       "    <tr>\n",
       "      <th>15947</th>\n",
       "      <td>3</td>\n",
       "      <td>c</td>\n",
       "      <td>a</td>\n",
       "      <td>a</td>\n",
       "      <td>g</td>\n",
       "      <td>a</td>\n",
       "      <td>a</td>\n",
       "      <td>t</td>\n",
       "      <td>9</td>\n",
       "      <td>+</td>\n",
       "      <td>7.340</td>\n",
       "    </tr>\n",
       "    <tr>\n",
       "      <th>27485</th>\n",
       "      <td>7</td>\n",
       "      <td>a</td>\n",
       "      <td>a</td>\n",
       "      <td>a</td>\n",
       "      <td>a</td>\n",
       "      <td>g</td>\n",
       "      <td>a</td>\n",
       "      <td>a</td>\n",
       "      <td>13</td>\n",
       "      <td>+</td>\n",
       "      <td>6.980</td>\n",
       "    </tr>\n",
       "    <tr>\n",
       "      <th>27947</th>\n",
       "      <td>4</td>\n",
       "      <td>c</td>\n",
       "      <td>a</td>\n",
       "      <td>a</td>\n",
       "      <td>g</td>\n",
       "      <td>a</td>\n",
       "      <td>a</td>\n",
       "      <td>t</td>\n",
       "      <td>10</td>\n",
       "      <td>+</td>\n",
       "      <td>7.340</td>\n",
       "    </tr>\n",
       "    <tr>\n",
       "      <th>28590</th>\n",
       "      <td>5</td>\n",
       "      <td>c</td>\n",
       "      <td>c</td>\n",
       "      <td>a</td>\n",
       "      <td>a</td>\n",
       "      <td>g</td>\n",
       "      <td>a</td>\n",
       "      <td>t</td>\n",
       "      <td>11</td>\n",
       "      <td>+</td>\n",
       "      <td>3.970</td>\n",
       "    </tr>\n",
       "    <tr>\n",
       "      <th>28611</th>\n",
       "      <td>5</td>\n",
       "      <td>c</td>\n",
       "      <td>t</td>\n",
       "      <td>a</td>\n",
       "      <td>g</td>\n",
       "      <td>g</td>\n",
       "      <td>a</td>\n",
       "      <td>a</td>\n",
       "      <td>11</td>\n",
       "      <td>+</td>\n",
       "      <td>7.870</td>\n",
       "    </tr>\n",
       "    <tr>\n",
       "      <th>28652</th>\n",
       "      <td>5</td>\n",
       "      <td>c</td>\n",
       "      <td>a</td>\n",
       "      <td>a</td>\n",
       "      <td>a</td>\n",
       "      <td>g</td>\n",
       "      <td>a</td>\n",
       "      <td>c</td>\n",
       "      <td>11</td>\n",
       "      <td>+</td>\n",
       "      <td>7.250</td>\n",
       "    </tr>\n",
       "    <tr>\n",
       "      <th>28700</th>\n",
       "      <td>5</td>\n",
       "      <td>a</td>\n",
       "      <td>a</td>\n",
       "      <td>a</td>\n",
       "      <td>a</td>\n",
       "      <td>g</td>\n",
       "      <td>a</td>\n",
       "      <td>t</td>\n",
       "      <td>11</td>\n",
       "      <td>+</td>\n",
       "      <td>6.580</td>\n",
       "    </tr>\n",
       "    <tr>\n",
       "      <th>28804</th>\n",
       "      <td>3</td>\n",
       "      <td>c</td>\n",
       "      <td>a</td>\n",
       "      <td>g</td>\n",
       "      <td>a</td>\n",
       "      <td>g</td>\n",
       "      <td>g</td>\n",
       "      <td>c</td>\n",
       "      <td>9</td>\n",
       "      <td>+</td>\n",
       "      <td>1.020</td>\n",
       "    </tr>\n",
       "    <tr>\n",
       "      <th>28859</th>\n",
       "      <td>1</td>\n",
       "      <td>c</td>\n",
       "      <td>a</td>\n",
       "      <td>a</td>\n",
       "      <td>g</td>\n",
       "      <td>a</td>\n",
       "      <td>a</td>\n",
       "      <td>a</td>\n",
       "      <td>7</td>\n",
       "      <td>+</td>\n",
       "      <td>7.730</td>\n",
       "    </tr>\n",
       "    <tr>\n",
       "      <th>28897</th>\n",
       "      <td>5</td>\n",
       "      <td>c</td>\n",
       "      <td>t</td>\n",
       "      <td>a</td>\n",
       "      <td>g</td>\n",
       "      <td>a</td>\n",
       "      <td>a</td>\n",
       "      <td>t</td>\n",
       "      <td>11</td>\n",
       "      <td>+</td>\n",
       "      <td>6.640</td>\n",
       "    </tr>\n",
       "    <tr>\n",
       "      <th>29015</th>\n",
       "      <td>4</td>\n",
       "      <td>c</td>\n",
       "      <td>t</td>\n",
       "      <td>a</td>\n",
       "      <td>a</td>\n",
       "      <td>g</td>\n",
       "      <td>a</td>\n",
       "      <td>a</td>\n",
       "      <td>10</td>\n",
       "      <td>+</td>\n",
       "      <td>8.360</td>\n",
       "    </tr>\n",
       "    <tr>\n",
       "      <th>29040</th>\n",
       "      <td>3</td>\n",
       "      <td>c</td>\n",
       "      <td>t</td>\n",
       "      <td>a</td>\n",
       "      <td>a</td>\n",
       "      <td>g</td>\n",
       "      <td>a</td>\n",
       "      <td>a</td>\n",
       "      <td>9</td>\n",
       "      <td>+</td>\n",
       "      <td>8.360</td>\n",
       "    </tr>\n",
       "    <tr>\n",
       "      <th>29126</th>\n",
       "      <td>1</td>\n",
       "      <td>a</td>\n",
       "      <td>a</td>\n",
       "      <td>g</td>\n",
       "      <td>g</td>\n",
       "      <td>a</td>\n",
       "      <td>a</td>\n",
       "      <td>a</td>\n",
       "      <td>7</td>\n",
       "      <td>+</td>\n",
       "      <td>2.970</td>\n",
       "    </tr>\n",
       "    <tr>\n",
       "      <th>29154</th>\n",
       "      <td>5</td>\n",
       "      <td>c</td>\n",
       "      <td>a</td>\n",
       "      <td>a</td>\n",
       "      <td>g</td>\n",
       "      <td>g</td>\n",
       "      <td>a</td>\n",
       "      <td>a</td>\n",
       "      <td>11</td>\n",
       "      <td>+</td>\n",
       "      <td>8.570</td>\n",
       "    </tr>\n",
       "    <tr>\n",
       "      <th>29297</th>\n",
       "      <td>5</td>\n",
       "      <td>c</td>\n",
       "      <td>a</td>\n",
       "      <td>a</td>\n",
       "      <td>a</td>\n",
       "      <td>g</td>\n",
       "      <td>a</td>\n",
       "      <td>t</td>\n",
       "      <td>11</td>\n",
       "      <td>+</td>\n",
       "      <td>8.670</td>\n",
       "    </tr>\n",
       "    <tr>\n",
       "      <th>29312</th>\n",
       "      <td>5</td>\n",
       "      <td>c</td>\n",
       "      <td>a</td>\n",
       "      <td>a</td>\n",
       "      <td>a</td>\n",
       "      <td>g</td>\n",
       "      <td>a</td>\n",
       "      <td>t</td>\n",
       "      <td>11</td>\n",
       "      <td>+</td>\n",
       "      <td>8.670</td>\n",
       "    </tr>\n",
       "    <tr>\n",
       "      <th>29377</th>\n",
       "      <td>5</td>\n",
       "      <td>c</td>\n",
       "      <td>t</td>\n",
       "      <td>a</td>\n",
       "      <td>a</td>\n",
       "      <td>a</td>\n",
       "      <td>a</td>\n",
       "      <td>a</td>\n",
       "      <td>11</td>\n",
       "      <td>+</td>\n",
       "      <td>7.520</td>\n",
       "    </tr>\n",
       "    <tr>\n",
       "      <th>29407</th>\n",
       "      <td>2</td>\n",
       "      <td>a</td>\n",
       "      <td>t</td>\n",
       "      <td>g</td>\n",
       "      <td>a</td>\n",
       "      <td>a</td>\n",
       "      <td>a</td>\n",
       "      <td>c</td>\n",
       "      <td>8</td>\n",
       "      <td>+</td>\n",
       "      <td>0.953</td>\n",
       "    </tr>\n",
       "    <tr>\n",
       "      <th>29775</th>\n",
       "      <td>5</td>\n",
       "      <td>c</td>\n",
       "      <td>t</td>\n",
       "      <td>a</td>\n",
       "      <td>g</td>\n",
       "      <td>g</td>\n",
       "      <td>g</td>\n",
       "      <td>a</td>\n",
       "      <td>11</td>\n",
       "      <td>+</td>\n",
       "      <td>4.320</td>\n",
       "    </tr>\n",
       "  </tbody>\n",
       "</table>\n",
       "</div>"
      ],
      "text/plain": [
       "       start b1 b2 b3 b4 b5 b6 b7  end strand  score\n",
       "pos                                                 \n",
       "15947      3  c  a  a  g  a  a  t    9      +  7.340\n",
       "27485      7  a  a  a  a  g  a  a   13      +  6.980\n",
       "27947      4  c  a  a  g  a  a  t   10      +  7.340\n",
       "28590      5  c  c  a  a  g  a  t   11      +  3.970\n",
       "28611      5  c  t  a  g  g  a  a   11      +  7.870\n",
       "28652      5  c  a  a  a  g  a  c   11      +  7.250\n",
       "28700      5  a  a  a  a  g  a  t   11      +  6.580\n",
       "28804      3  c  a  g  a  g  g  c    9      +  1.020\n",
       "28859      1  c  a  a  g  a  a  a    7      +  7.730\n",
       "28897      5  c  t  a  g  a  a  t   11      +  6.640\n",
       "29015      4  c  t  a  a  g  a  a   10      +  8.360\n",
       "29040      3  c  t  a  a  g  a  a    9      +  8.360\n",
       "29126      1  a  a  g  g  a  a  a    7      +  2.970\n",
       "29154      5  c  a  a  g  g  a  a   11      +  8.570\n",
       "29297      5  c  a  a  a  g  a  t   11      +  8.670\n",
       "29312      5  c  a  a  a  g  a  t   11      +  8.670\n",
       "29377      5  c  t  a  a  a  a  a   11      +  7.520\n",
       "29407      2  a  t  g  a  a  a  c    8      +  0.953\n",
       "29775      5  c  t  a  g  g  g  a   11      +  4.320"
      ]
     },
     "execution_count": 21,
     "metadata": {},
     "output_type": "execute_result"
    }
   ],
   "source": [
    "memealns"
   ]
  },
  {
   "cell_type": "code",
   "execution_count": 22,
   "metadata": {},
   "outputs": [],
   "source": [
    "mods_memealned = mods20pct[mods20pct.index.isin(memealns.index)]"
   ]
  },
  {
   "cell_type": "code",
   "execution_count": 23,
   "metadata": {},
   "outputs": [],
   "source": [
    "alnseqs = mods_memealned.index.to_series().apply(lambda p: covseq[p-10+memealns.loc[p]['start']:p+11+memealns.loc[p]['start']])"
   ]
  },
  {
   "cell_type": "code",
   "execution_count": 24,
   "metadata": {},
   "outputs": [],
   "source": [
    "colormatch = {\n",
    "    'a': '<font color=\"green\">a</font><small> </small>',\n",
    "    'c': '<font color=\"blue\">c</font><small> </small>',\n",
    "    'g': '<font color=\"yellow\">g</font><small> </small>',\n",
    "    'u': '<font color=\"red\">u</font><small> </small>',\n",
    "}"
   ]
  },
  {
   "cell_type": "code",
   "execution_count": 25,
   "metadata": {},
   "outputs": [
    {
     "name": "stdout",
     "output_type": "stream",
     "text": [
      "15948\t<font color=\"green\">a</font><small> </small><font color=\"red\">u</font><small> </small><font color=\"blue\">c</font><small> </small><font color=\"green\">a</font><small> </small><font color=\"green\">a</font><small> </small><font color=\"yellow\">g</font><small> </small><font color=\"green\">a</font><small> </small><font color=\"green\">a</font><small> </small><font color=\"red\">u</font><small> </small>\n",
      "27486\t<font color=\"red\">u</font><small> </small><font color=\"red\">u</font><small> </small><font color=\"green\">a</font><small> </small><font color=\"green\">a</font><small> </small><font color=\"green\">a</font><small> </small><font color=\"green\">a</font><small> </small><font color=\"yellow\">g</font><small> </small><font color=\"green\">a</font><small> </small><font color=\"green\">a</font><small> </small>\n",
      "27948\t<font color=\"green\">a</font><small> </small><font color=\"blue\">c</font><small> </small><font color=\"blue\">c</font><small> </small><font color=\"green\">a</font><small> </small><font color=\"green\">a</font><small> </small><font color=\"yellow\">g</font><small> </small><font color=\"green\">a</font><small> </small><font color=\"green\">a</font><small> </small><font color=\"red\">u</font><small> </small>\n",
      "28591\t<font color=\"yellow\">g</font><small> </small><font color=\"red\">u</font><small> </small><font color=\"blue\">c</font><small> </small><font color=\"blue\">c</font><small> </small><font color=\"green\">a</font><small> </small><font color=\"green\">a</font><small> </small><font color=\"yellow\">g</font><small> </small><font color=\"green\">a</font><small> </small><font color=\"red\">u</font><small> </small>\n",
      "28612\t<font color=\"green\">a</font><small> </small><font color=\"blue\">c</font><small> </small><font color=\"blue\">c</font><small> </small><font color=\"red\">u</font><small> </small><font color=\"green\">a</font><small> </small><font color=\"yellow\">g</font><small> </small><font color=\"yellow\">g</font><small> </small><font color=\"green\">a</font><small> </small><font color=\"green\">a</font><small> </small>\n",
      "28653\t<font color=\"green\">a</font><small> </small><font color=\"green\">a</font><small> </small><font color=\"blue\">c</font><small> </small><font color=\"green\">a</font><small> </small><font color=\"green\">a</font><small> </small><font color=\"green\">a</font><small> </small><font color=\"yellow\">g</font><small> </small><font color=\"green\">a</font><small> </small><font color=\"blue\">c</font><small> </small>\n",
      "28701\t<font color=\"blue\">c</font><small> </small><font color=\"blue\">c</font><small> </small><font color=\"green\">a</font><small> </small><font color=\"green\">a</font><small> </small><font color=\"green\">a</font><small> </small><font color=\"green\">a</font><small> </small><font color=\"yellow\">g</font><small> </small><font color=\"green\">a</font><small> </small><font color=\"red\">u</font><small> </small>\n",
      "28805\t<font color=\"green\">a</font><small> </small><font color=\"yellow\">g</font><small> </small><font color=\"blue\">c</font><small> </small><font color=\"green\">a</font><small> </small><font color=\"yellow\">g</font><small> </small><font color=\"green\">a</font><small> </small><font color=\"yellow\">g</font><small> </small><font color=\"yellow\">g</font><small> </small><font color=\"blue\">c</font><small> </small>\n",
      "28860\t<font color=\"red\">u</font><small> </small><font color=\"red\">u</font><small> </small><font color=\"blue\">c</font><small> </small><font color=\"green\">a</font><small> </small><font color=\"green\">a</font><small> </small><font color=\"yellow\">g</font><small> </small><font color=\"green\">a</font><small> </small><font color=\"green\">a</font><small> </small><font color=\"green\">a</font><small> </small>\n",
      "28898\t<font color=\"red\">u</font><small> </small><font color=\"yellow\">g</font><small> </small><font color=\"blue\">c</font><small> </small><font color=\"red\">u</font><small> </small><font color=\"green\">a</font><small> </small><font color=\"yellow\">g</font><small> </small><font color=\"green\">a</font><small> </small><font color=\"green\">a</font><small> </small><font color=\"red\">u</font><small> </small>\n",
      "29016\t<font color=\"blue\">c</font><small> </small><font color=\"green\">a</font><small> </small><font color=\"blue\">c</font><small> </small><font color=\"red\">u</font><small> </small><font color=\"green\">a</font><small> </small><font color=\"green\">a</font><small> </small><font color=\"yellow\">g</font><small> </small><font color=\"green\">a</font><small> </small><font color=\"green\">a</font><small> </small>\n",
      "29041\t<font color=\"red\">u</font><small> </small><font color=\"red\">u</font><small> </small><font color=\"blue\">c</font><small> </small><font color=\"red\">u</font><small> </small><font color=\"green\">a</font><small> </small><font color=\"green\">a</font><small> </small><font color=\"yellow\">g</font><small> </small><font color=\"green\">a</font><small> </small><font color=\"green\">a</font><small> </small>\n",
      "29127\t<font color=\"blue\">c</font><small> </small><font color=\"blue\">c</font><small> </small><font color=\"green\">a</font><small> </small><font color=\"green\">a</font><small> </small><font color=\"yellow\">g</font><small> </small><font color=\"yellow\">g</font><small> </small><font color=\"green\">a</font><small> </small><font color=\"green\">a</font><small> </small><font color=\"green\">a</font><small> </small>\n",
      "29155\t<font color=\"yellow\">g</font><small> </small><font color=\"green\">a</font><small> </small><font color=\"blue\">c</font><small> </small><font color=\"green\">a</font><small> </small><font color=\"green\">a</font><small> </small><font color=\"yellow\">g</font><small> </small><font color=\"yellow\">g</font><small> </small><font color=\"green\">a</font><small> </small><font color=\"green\">a</font><small> </small>\n",
      "29298\t<font color=\"yellow\">g</font><small> </small><font color=\"green\">a</font><small> </small><font color=\"blue\">c</font><small> </small><font color=\"green\">a</font><small> </small><font color=\"green\">a</font><small> </small><font color=\"green\">a</font><small> </small><font color=\"yellow\">g</font><small> </small><font color=\"green\">a</font><small> </small><font color=\"red\">u</font><small> </small>\n",
      "29313\t<font color=\"red\">u</font><small> </small><font color=\"red\">u</font><small> </small><font color=\"blue\">c</font><small> </small><font color=\"green\">a</font><small> </small><font color=\"green\">a</font><small> </small><font color=\"green\">a</font><small> </small><font color=\"yellow\">g</font><small> </small><font color=\"green\">a</font><small> </small><font color=\"red\">u</font><small> </small>\n",
      "29378\t<font color=\"yellow\">g</font><small> </small><font color=\"blue\">c</font><small> </small><font color=\"blue\">c</font><small> </small><font color=\"red\">u</font><small> </small><font color=\"green\">a</font><small> </small><font color=\"green\">a</font><small> </small><font color=\"green\">a</font><small> </small><font color=\"green\">a</font><small> </small><font color=\"green\">a</font><small> </small>\n",
      "29408\t<font color=\"red\">u</font><small> </small><font color=\"yellow\">g</font><small> </small><font color=\"green\">a</font><small> </small><font color=\"red\">u</font><small> </small><font color=\"yellow\">g</font><small> </small><font color=\"green\">a</font><small> </small><font color=\"green\">a</font><small> </small><font color=\"green\">a</font><small> </small><font color=\"blue\">c</font><small> </small>\n",
      "29776\t<font color=\"red\">u</font><small> </small><font color=\"yellow\">g</font><small> </small><font color=\"blue\">c</font><small> </small><font color=\"red\">u</font><small> </small><font color=\"green\">a</font><small> </small><font color=\"yellow\">g</font><small> </small><font color=\"yellow\">g</font><small> </small><font color=\"yellow\">g</font><small> </small><font color=\"green\">a</font><small> </small>\n"
     ]
    }
   ],
   "source": [
    "print('\\n'.join(\n",
    "    '{}\\t{}'.format(p+1, n)\n",
    "    for p, n in alnseqs.apply(lambda x: ''.join(colormatch[c] for c in x[1:10].lower())).iteritems()\n",
    "))"
   ]
  },
  {
   "cell_type": "code",
   "execution_count": 26,
   "metadata": {},
   "outputs": [
    {
     "data": {
      "text/plain": [
       "[15946,\n",
       " 27488,\n",
       " 27947,\n",
       " 28591,\n",
       " 28612,\n",
       " 28653,\n",
       " 28701,\n",
       " 28803,\n",
       " 28856,\n",
       " 28898,\n",
       " 29015,\n",
       " 29039,\n",
       " 29123,\n",
       " 29155,\n",
       " 29298,\n",
       " 29313,\n",
       " 29378,\n",
       " 29405,\n",
       " 29776]"
      ]
     },
     "execution_count": 26,
     "metadata": {},
     "output_type": "execute_result"
    }
   ],
   "source": [
    "sitecenters = sorted(list(map(int, \"\"\"\n",
    "29776 29405 29378 29313 29298 29155 29123 29039 29015 28898 28856 28803 28701 28653 28612 28591 27947 27488 15946 \n",
    "\"\"\".split())))\n",
    "sitecenters"
   ]
  },
  {
   "cell_type": "code",
   "execution_count": 27,
   "metadata": {},
   "outputs": [],
   "source": [
    "decorate = lambda x: ''.join(colormatch[c] for c in x.lower())"
   ]
  },
  {
   "cell_type": "code",
   "execution_count": 28,
   "metadata": {},
   "outputs": [
    {
     "name": "stdout",
     "output_type": "stream",
     "text": [
      "<font color=\"blue\">c</font><small> </small><font color=\"blue\">c</font><small> </small><font color=\"green\">a</font><small> </small><font color=\"red\">u</font><small> </small><font color=\"blue\">c</font><small> </small><font color=\"green\">a</font><small> </small><font color=\"green\">a</font><small> </small><font color=\"yellow\">g</font><small> </small><font color=\"green\">a</font><small> </small><font color=\"green\">a</font><small> </small><font color=\"red\">u</font><small> </small><font color=\"blue\">c</font><small> </small><font color=\"blue\">c</font><small> </small><font color=\"red\">u</font><small> </small><font color=\"green\">a</font><small> </small>\n",
      "<font color=\"red\">u</font><small> </small><font color=\"red\">u</font><small> </small><font color=\"red\">u</font><small> </small><font color=\"red\">u</font><small> </small><font color=\"green\">a</font><small> </small><font color=\"green\">a</font><small> </small><font color=\"green\">a</font><small> </small><font color=\"green\">a</font><small> </small><font color=\"yellow\">g</font><small> </small><font color=\"green\">a</font><small> </small><font color=\"green\">a</font><small> </small><font color=\"blue\">c</font><small> </small><font color=\"blue\">c</font><small> </small><font color=\"red\">u</font><small> </small><font color=\"red\">u</font><small> </small>\n",
      "<font color=\"red\">u</font><small> </small><font color=\"blue\">c</font><small> </small><font color=\"green\">a</font><small> </small><font color=\"blue\">c</font><small> </small><font color=\"blue\">c</font><small> </small><font color=\"green\">a</font><small> </small><font color=\"green\">a</font><small> </small><font color=\"yellow\">g</font><small> </small><font color=\"green\">a</font><small> </small><font color=\"green\">a</font><small> </small><font color=\"red\">u</font><small> </small><font color=\"yellow\">g</font><small> </small><font color=\"red\">u</font><small> </small><font color=\"green\">a</font><small> </small><font color=\"yellow\">g</font><small> </small>\n",
      "<font color=\"blue\">c</font><small> </small><font color=\"green\">a</font><small> </small><font color=\"yellow\">g</font><small> </small><font color=\"red\">u</font><small> </small><font color=\"blue\">c</font><small> </small><font color=\"blue\">c</font><small> </small><font color=\"green\">a</font><small> </small><font color=\"green\">a</font><small> </small><font color=\"yellow\">g</font><small> </small><font color=\"green\">a</font><small> </small><font color=\"red\">u</font><small> </small><font color=\"yellow\">g</font><small> </small><font color=\"yellow\">g</font><small> </small><font color=\"red\">u</font><small> </small><font color=\"green\">a</font><small> </small>\n",
      "<font color=\"blue\">c</font><small> </small><font color=\"red\">u</font><small> </small><font color=\"green\">a</font><small> </small><font color=\"blue\">c</font><small> </small><font color=\"blue\">c</font><small> </small><font color=\"red\">u</font><small> </small><font color=\"green\">a</font><small> </small><font color=\"yellow\">g</font><small> </small><font color=\"yellow\">g</font><small> </small><font color=\"green\">a</font><small> </small><font color=\"green\">a</font><small> </small><font color=\"blue\">c</font><small> </small><font color=\"red\">u</font><small> </small><font color=\"yellow\">g</font><small> </small><font color=\"yellow\">g</font><small> </small>\n",
      "<font color=\"blue\">c</font><small> </small><font color=\"red\">u</font><small> </small><font color=\"green\">a</font><small> </small><font color=\"green\">a</font><small> </small><font color=\"blue\">c</font><small> </small><font color=\"green\">a</font><small> </small><font color=\"green\">a</font><small> </small><font color=\"green\">a</font><small> </small><font color=\"yellow\">g</font><small> </small><font color=\"green\">a</font><small> </small><font color=\"blue\">c</font><small> </small><font color=\"yellow\">g</font><small> </small><font color=\"yellow\">g</font><small> </small><font color=\"blue\">c</font><small> </small><font color=\"green\">a</font><small> </small>\n",
      "<font color=\"blue\">c</font><small> </small><font color=\"green\">a</font><small> </small><font color=\"blue\">c</font><small> </small><font color=\"blue\">c</font><small> </small><font color=\"green\">a</font><small> </small><font color=\"green\">a</font><small> </small><font color=\"green\">a</font><small> </small><font color=\"green\">a</font><small> </small><font color=\"yellow\">g</font><small> </small><font color=\"green\">a</font><small> </small><font color=\"red\">u</font><small> </small><font color=\"blue\">c</font><small> </small><font color=\"green\">a</font><small> </small><font color=\"blue\">c</font><small> </small><font color=\"green\">a</font><small> </small>\n",
      "<font color=\"yellow\">g</font><small> </small><font color=\"yellow\">g</font><small> </small><font color=\"green\">a</font><small> </small><font color=\"yellow\">g</font><small> </small><font color=\"blue\">c</font><small> </small><font color=\"green\">a</font><small> </small><font color=\"yellow\">g</font><small> </small><font color=\"green\">a</font><small> </small><font color=\"yellow\">g</font><small> </small><font color=\"yellow\">g</font><small> </small><font color=\"blue\">c</font><small> </small><font color=\"yellow\">g</font><small> </small><font color=\"yellow\">g</font><small> </small><font color=\"blue\">c</font><small> </small><font color=\"green\">a</font><small> </small>\n",
      "<font color=\"green\">a</font><small> </small><font color=\"yellow\">g</font><small> </small><font color=\"red\">u</font><small> </small><font color=\"red\">u</font><small> </small><font color=\"blue\">c</font><small> </small><font color=\"green\">a</font><small> </small><font color=\"green\">a</font><small> </small><font color=\"yellow\">g</font><small> </small><font color=\"green\">a</font><small> </small><font color=\"green\">a</font><small> </small><font color=\"green\">a</font><small> </small><font color=\"red\">u</font><small> </small><font color=\"red\">u</font><small> </small><font color=\"blue\">c</font><small> </small><font color=\"green\">a</font><small> </small>\n",
      "<font color=\"blue\">c</font><small> </small><font color=\"blue\">c</font><small> </small><font color=\"red\">u</font><small> </small><font color=\"yellow\">g</font><small> </small><font color=\"blue\">c</font><small> </small><font color=\"red\">u</font><small> </small><font color=\"green\">a</font><small> </small><font color=\"yellow\">g</font><small> </small><font color=\"green\">a</font><small> </small><font color=\"green\">a</font><small> </small><font color=\"red\">u</font><small> </small><font color=\"yellow\">g</font><small> </small><font color=\"yellow\">g</font><small> </small><font color=\"blue\">c</font><small> </small><font color=\"red\">u</font><small> </small>\n",
      "<font color=\"yellow\">g</font><small> </small><font color=\"red\">u</font><small> </small><font color=\"blue\">c</font><small> </small><font color=\"green\">a</font><small> </small><font color=\"blue\">c</font><small> </small><font color=\"red\">u</font><small> </small><font color=\"green\">a</font><small> </small><font color=\"green\">a</font><small> </small><font color=\"yellow\">g</font><small> </small><font color=\"green\">a</font><small> </small><font color=\"green\">a</font><small> </small><font color=\"green\">a</font><small> </small><font color=\"red\">u</font><small> </small><font color=\"blue\">c</font><small> </small><font color=\"red\">u</font><small> </small>\n",
      "<font color=\"yellow\">g</font><small> </small><font color=\"blue\">c</font><small> </small><font color=\"red\">u</font><small> </small><font color=\"red\">u</font><small> </small><font color=\"blue\">c</font><small> </small><font color=\"red\">u</font><small> </small><font color=\"green\">a</font><small> </small><font color=\"green\">a</font><small> </small><font color=\"yellow\">g</font><small> </small><font color=\"green\">a</font><small> </small><font color=\"green\">a</font><small> </small><font color=\"yellow\">g</font><small> </small><font color=\"blue\">c</font><small> </small><font color=\"blue\">c</font><small> </small><font color=\"red\">u</font><small> </small>\n",
      "<font color=\"green\">a</font><small> </small><font color=\"blue\">c</font><small> </small><font color=\"blue\">c</font><small> </small><font color=\"blue\">c</font><small> </small><font color=\"green\">a</font><small> </small><font color=\"green\">a</font><small> </small><font color=\"yellow\">g</font><small> </small><font color=\"yellow\">g</font><small> </small><font color=\"green\">a</font><small> </small><font color=\"green\">a</font><small> </small><font color=\"green\">a</font><small> </small><font color=\"red\">u</font><small> </small><font color=\"red\">u</font><small> </small><font color=\"red\">u</font><small> </small><font color=\"red\">u</font><small> </small>\n",
      "<font color=\"blue\">c</font><small> </small><font color=\"green\">a</font><small> </small><font color=\"yellow\">g</font><small> </small><font color=\"green\">a</font><small> </small><font color=\"blue\">c</font><small> </small><font color=\"green\">a</font><small> </small><font color=\"green\">a</font><small> </small><font color=\"yellow\">g</font><small> </small><font color=\"yellow\">g</font><small> </small><font color=\"green\">a</font><small> </small><font color=\"green\">a</font><small> </small><font color=\"blue\">c</font><small> </small><font color=\"red\">u</font><small> </small><font color=\"yellow\">g</font><small> </small><font color=\"green\">a</font><small> </small>\n",
      "<font color=\"green\">a</font><small> </small><font color=\"red\">u</font><small> </small><font color=\"yellow\">g</font><small> </small><font color=\"green\">a</font><small> </small><font color=\"blue\">c</font><small> </small><font color=\"green\">a</font><small> </small><font color=\"green\">a</font><small> </small><font color=\"green\">a</font><small> </small><font color=\"yellow\">g</font><small> </small><font color=\"green\">a</font><small> </small><font color=\"red\">u</font><small> </small><font color=\"blue\">c</font><small> </small><font color=\"blue\">c</font><small> </small><font color=\"green\">a</font><small> </small><font color=\"green\">a</font><small> </small>\n",
      "<font color=\"green\">a</font><small> </small><font color=\"red\">u</font><small> </small><font color=\"red\">u</font><small> </small><font color=\"red\">u</font><small> </small><font color=\"blue\">c</font><small> </small><font color=\"green\">a</font><small> </small><font color=\"green\">a</font><small> </small><font color=\"green\">a</font><small> </small><font color=\"yellow\">g</font><small> </small><font color=\"green\">a</font><small> </small><font color=\"red\">u</font><small> </small><font color=\"blue\">c</font><small> </small><font color=\"green\">a</font><small> </small><font color=\"green\">a</font><small> </small><font color=\"yellow\">g</font><small> </small>\n",
      "<font color=\"yellow\">g</font><small> </small><font color=\"green\">a</font><small> </small><font color=\"yellow\">g</font><small> </small><font color=\"blue\">c</font><small> </small><font color=\"blue\">c</font><small> </small><font color=\"red\">u</font><small> </small><font color=\"green\">a</font><small> </small><font color=\"green\">a</font><small> </small><font color=\"green\">a</font><small> </small><font color=\"green\">a</font><small> </small><font color=\"green\">a</font><small> </small><font color=\"yellow\">g</font><small> </small><font color=\"yellow\">g</font><small> </small><font color=\"green\">a</font><small> </small><font color=\"blue\">c</font><small> </small>\n",
      "<font color=\"yellow\">g</font><small> </small><font color=\"blue\">c</font><small> </small><font color=\"red\">u</font><small> </small><font color=\"yellow\">g</font><small> </small><font color=\"green\">a</font><small> </small><font color=\"red\">u</font><small> </small><font color=\"yellow\">g</font><small> </small><font color=\"green\">a</font><small> </small><font color=\"green\">a</font><small> </small><font color=\"green\">a</font><small> </small><font color=\"blue\">c</font><small> </small><font color=\"red\">u</font><small> </small><font color=\"blue\">c</font><small> </small><font color=\"green\">a</font><small> </small><font color=\"green\">a</font><small> </small>\n",
      "<font color=\"green\">a</font><small> </small><font color=\"green\">a</font><small> </small><font color=\"red\">u</font><small> </small><font color=\"yellow\">g</font><small> </small><font color=\"blue\">c</font><small> </small><font color=\"red\">u</font><small> </small><font color=\"green\">a</font><small> </small><font color=\"yellow\">g</font><small> </small><font color=\"yellow\">g</font><small> </small><font color=\"yellow\">g</font><small> </small><font color=\"green\">a</font><small> </small><font color=\"yellow\">g</font><small> </small><font color=\"green\">a</font><small> </small><font color=\"yellow\">g</font><small> </small><font color=\"blue\">c</font><small> </small>\n"
     ]
    }
   ],
   "source": [
    "print('\\n'.join([decorate(covseq[center-7:center+8]) for center in sitecenters]))"
   ]
  },
  {
   "cell_type": "code",
   "execution_count": 29,
   "metadata": {},
   "outputs": [
    {
     "data": {
      "text/plain": [
       "15946"
      ]
     },
     "execution_count": 29,
     "metadata": {},
     "output_type": "execute_result"
    }
   ],
   "source": [
    "sitecenters[0]"
   ]
  }
 ],
 "metadata": {
  "kernelspec": {
   "display_name": "Python 3",
   "language": "python",
   "name": "python3"
  },
  "language_info": {
   "codemirror_mode": {
    "name": "ipython",
    "version": 3
   },
   "file_extension": ".py",
   "mimetype": "text/x-python",
   "name": "python",
   "nbconvert_exporter": "python",
   "pygments_lexer": "ipython3",
   "version": "3.7.6"
  }
 },
 "nbformat": 4,
 "nbformat_minor": 4
}
